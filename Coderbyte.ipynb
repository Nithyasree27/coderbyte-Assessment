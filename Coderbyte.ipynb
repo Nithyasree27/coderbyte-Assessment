{
 "cells": [
  {
   "cell_type": "code",
   "execution_count": 110,
   "id": "ec17d5ff",
   "metadata": {},
   "outputs": [],
   "source": [
    "import pandas as pd\n",
    "import numpy as np\n",
    "from scipy import stats\n",
    "import matplotlib.pyplot as plt\n",
    "import seaborn as sns\n",
    "import statsmodels.api as sm\n",
    "from sklearn.model_selection import train_test_split"
   ]
  },
  {
   "cell_type": "code",
   "execution_count": 111,
   "id": "452aa625",
   "metadata": {},
   "outputs": [],
   "source": [
    "data=pd.read_csv(\"C:/Users/Jothy Natarajan/Downloads/world_population/world_population.csv\")"
   ]
  },
  {
   "cell_type": "code",
   "execution_count": 112,
   "id": "a226dedf",
   "metadata": {},
   "outputs": [
    {
     "data": {
      "text/html": [
       "<div>\n",
       "<style scoped>\n",
       "    .dataframe tbody tr th:only-of-type {\n",
       "        vertical-align: middle;\n",
       "    }\n",
       "\n",
       "    .dataframe tbody tr th {\n",
       "        vertical-align: top;\n",
       "    }\n",
       "\n",
       "    .dataframe thead th {\n",
       "        text-align: right;\n",
       "    }\n",
       "</style>\n",
       "<table border=\"1\" class=\"dataframe\">\n",
       "  <thead>\n",
       "    <tr style=\"text-align: right;\">\n",
       "      <th></th>\n",
       "      <th>Rank</th>\n",
       "      <th>CCA3</th>\n",
       "      <th>Country</th>\n",
       "      <th>Capital</th>\n",
       "      <th>Continent</th>\n",
       "      <th>2022 Population</th>\n",
       "      <th>2020 Population</th>\n",
       "      <th>2015 Population</th>\n",
       "      <th>2010 Population</th>\n",
       "      <th>2000 Population</th>\n",
       "      <th>1990 Population</th>\n",
       "      <th>1980 Population</th>\n",
       "      <th>1970 Population</th>\n",
       "      <th>Area (km²)</th>\n",
       "      <th>Density (per km²)</th>\n",
       "      <th>Growth Rate</th>\n",
       "      <th>World Population Percentage</th>\n",
       "    </tr>\n",
       "  </thead>\n",
       "  <tbody>\n",
       "    <tr>\n",
       "      <th>0</th>\n",
       "      <td>36</td>\n",
       "      <td>AFG</td>\n",
       "      <td>Afghanistan</td>\n",
       "      <td>Kabul</td>\n",
       "      <td>Asia</td>\n",
       "      <td>41128771</td>\n",
       "      <td>38972230</td>\n",
       "      <td>33753499</td>\n",
       "      <td>28189672</td>\n",
       "      <td>19542982</td>\n",
       "      <td>10694796</td>\n",
       "      <td>12486631</td>\n",
       "      <td>10752971</td>\n",
       "      <td>652230</td>\n",
       "      <td>63.0587</td>\n",
       "      <td>1.0257</td>\n",
       "      <td>0.52</td>\n",
       "    </tr>\n",
       "    <tr>\n",
       "      <th>1</th>\n",
       "      <td>138</td>\n",
       "      <td>ALB</td>\n",
       "      <td>Albania</td>\n",
       "      <td>Tirana</td>\n",
       "      <td>Europe</td>\n",
       "      <td>2842321</td>\n",
       "      <td>2866849</td>\n",
       "      <td>2882481</td>\n",
       "      <td>2913399</td>\n",
       "      <td>3182021</td>\n",
       "      <td>3295066</td>\n",
       "      <td>2941651</td>\n",
       "      <td>2324731</td>\n",
       "      <td>28748</td>\n",
       "      <td>98.8702</td>\n",
       "      <td>0.9957</td>\n",
       "      <td>0.04</td>\n",
       "    </tr>\n",
       "    <tr>\n",
       "      <th>2</th>\n",
       "      <td>34</td>\n",
       "      <td>DZA</td>\n",
       "      <td>Algeria</td>\n",
       "      <td>Algiers</td>\n",
       "      <td>Africa</td>\n",
       "      <td>44903225</td>\n",
       "      <td>43451666</td>\n",
       "      <td>39543154</td>\n",
       "      <td>35856344</td>\n",
       "      <td>30774621</td>\n",
       "      <td>25518074</td>\n",
       "      <td>18739378</td>\n",
       "      <td>13795915</td>\n",
       "      <td>2381741</td>\n",
       "      <td>18.8531</td>\n",
       "      <td>1.0164</td>\n",
       "      <td>0.56</td>\n",
       "    </tr>\n",
       "    <tr>\n",
       "      <th>3</th>\n",
       "      <td>213</td>\n",
       "      <td>ASM</td>\n",
       "      <td>American Samoa</td>\n",
       "      <td>Pago Pago</td>\n",
       "      <td>Oceania</td>\n",
       "      <td>44273</td>\n",
       "      <td>46189</td>\n",
       "      <td>51368</td>\n",
       "      <td>54849</td>\n",
       "      <td>58230</td>\n",
       "      <td>47818</td>\n",
       "      <td>32886</td>\n",
       "      <td>27075</td>\n",
       "      <td>199</td>\n",
       "      <td>222.4774</td>\n",
       "      <td>0.9831</td>\n",
       "      <td>0.00</td>\n",
       "    </tr>\n",
       "    <tr>\n",
       "      <th>4</th>\n",
       "      <td>203</td>\n",
       "      <td>AND</td>\n",
       "      <td>Andorra</td>\n",
       "      <td>Andorra la Vella</td>\n",
       "      <td>Europe</td>\n",
       "      <td>79824</td>\n",
       "      <td>77700</td>\n",
       "      <td>71746</td>\n",
       "      <td>71519</td>\n",
       "      <td>66097</td>\n",
       "      <td>53569</td>\n",
       "      <td>35611</td>\n",
       "      <td>19860</td>\n",
       "      <td>468</td>\n",
       "      <td>170.5641</td>\n",
       "      <td>1.0100</td>\n",
       "      <td>0.00</td>\n",
       "    </tr>\n",
       "    <tr>\n",
       "      <th>5</th>\n",
       "      <td>42</td>\n",
       "      <td>AGO</td>\n",
       "      <td>Angola</td>\n",
       "      <td>Luanda</td>\n",
       "      <td>Africa</td>\n",
       "      <td>35588987</td>\n",
       "      <td>33428485</td>\n",
       "      <td>28127721</td>\n",
       "      <td>23364185</td>\n",
       "      <td>16394062</td>\n",
       "      <td>11828638</td>\n",
       "      <td>8330047</td>\n",
       "      <td>6029700</td>\n",
       "      <td>1246700</td>\n",
       "      <td>28.5466</td>\n",
       "      <td>1.0315</td>\n",
       "      <td>0.45</td>\n",
       "    </tr>\n",
       "    <tr>\n",
       "      <th>6</th>\n",
       "      <td>224</td>\n",
       "      <td>AIA</td>\n",
       "      <td>Anguilla</td>\n",
       "      <td>The Valley</td>\n",
       "      <td>North America</td>\n",
       "      <td>15857</td>\n",
       "      <td>15585</td>\n",
       "      <td>14525</td>\n",
       "      <td>13172</td>\n",
       "      <td>11047</td>\n",
       "      <td>8316</td>\n",
       "      <td>6560</td>\n",
       "      <td>6283</td>\n",
       "      <td>91</td>\n",
       "      <td>174.2527</td>\n",
       "      <td>1.0066</td>\n",
       "      <td>0.00</td>\n",
       "    </tr>\n",
       "    <tr>\n",
       "      <th>7</th>\n",
       "      <td>201</td>\n",
       "      <td>ATG</td>\n",
       "      <td>Antigua and Barbuda</td>\n",
       "      <td>Saint John’s</td>\n",
       "      <td>North America</td>\n",
       "      <td>93763</td>\n",
       "      <td>92664</td>\n",
       "      <td>89941</td>\n",
       "      <td>85695</td>\n",
       "      <td>75055</td>\n",
       "      <td>63328</td>\n",
       "      <td>64888</td>\n",
       "      <td>64516</td>\n",
       "      <td>442</td>\n",
       "      <td>212.1335</td>\n",
       "      <td>1.0058</td>\n",
       "      <td>0.00</td>\n",
       "    </tr>\n",
       "    <tr>\n",
       "      <th>8</th>\n",
       "      <td>33</td>\n",
       "      <td>ARG</td>\n",
       "      <td>Argentina</td>\n",
       "      <td>Buenos Aires</td>\n",
       "      <td>South America</td>\n",
       "      <td>45510318</td>\n",
       "      <td>45036032</td>\n",
       "      <td>43257065</td>\n",
       "      <td>41100123</td>\n",
       "      <td>37070774</td>\n",
       "      <td>32637657</td>\n",
       "      <td>28024803</td>\n",
       "      <td>23842803</td>\n",
       "      <td>2780400</td>\n",
       "      <td>16.3683</td>\n",
       "      <td>1.0052</td>\n",
       "      <td>0.57</td>\n",
       "    </tr>\n",
       "    <tr>\n",
       "      <th>9</th>\n",
       "      <td>140</td>\n",
       "      <td>ARM</td>\n",
       "      <td>Armenia</td>\n",
       "      <td>Yerevan</td>\n",
       "      <td>Asia</td>\n",
       "      <td>2780469</td>\n",
       "      <td>2805608</td>\n",
       "      <td>2878595</td>\n",
       "      <td>2946293</td>\n",
       "      <td>3168523</td>\n",
       "      <td>3556539</td>\n",
       "      <td>3135123</td>\n",
       "      <td>2534377</td>\n",
       "      <td>29743</td>\n",
       "      <td>93.4831</td>\n",
       "      <td>0.9962</td>\n",
       "      <td>0.03</td>\n",
       "    </tr>\n",
       "  </tbody>\n",
       "</table>\n",
       "</div>"
      ],
      "text/plain": [
       "   Rank CCA3              Country           Capital      Continent  \\\n",
       "0    36  AFG          Afghanistan             Kabul           Asia   \n",
       "1   138  ALB              Albania            Tirana         Europe   \n",
       "2    34  DZA              Algeria           Algiers         Africa   \n",
       "3   213  ASM       American Samoa         Pago Pago        Oceania   \n",
       "4   203  AND              Andorra  Andorra la Vella         Europe   \n",
       "5    42  AGO               Angola            Luanda         Africa   \n",
       "6   224  AIA             Anguilla        The Valley  North America   \n",
       "7   201  ATG  Antigua and Barbuda      Saint John’s  North America   \n",
       "8    33  ARG            Argentina      Buenos Aires  South America   \n",
       "9   140  ARM              Armenia           Yerevan           Asia   \n",
       "\n",
       "   2022 Population  2020 Population  2015 Population  2010 Population  \\\n",
       "0         41128771         38972230         33753499         28189672   \n",
       "1          2842321          2866849          2882481          2913399   \n",
       "2         44903225         43451666         39543154         35856344   \n",
       "3            44273            46189            51368            54849   \n",
       "4            79824            77700            71746            71519   \n",
       "5         35588987         33428485         28127721         23364185   \n",
       "6            15857            15585            14525            13172   \n",
       "7            93763            92664            89941            85695   \n",
       "8         45510318         45036032         43257065         41100123   \n",
       "9          2780469          2805608          2878595          2946293   \n",
       "\n",
       "   2000 Population  1990 Population  1980 Population  1970 Population  \\\n",
       "0         19542982         10694796         12486631         10752971   \n",
       "1          3182021          3295066          2941651          2324731   \n",
       "2         30774621         25518074         18739378         13795915   \n",
       "3            58230            47818            32886            27075   \n",
       "4            66097            53569            35611            19860   \n",
       "5         16394062         11828638          8330047          6029700   \n",
       "6            11047             8316             6560             6283   \n",
       "7            75055            63328            64888            64516   \n",
       "8         37070774         32637657         28024803         23842803   \n",
       "9          3168523          3556539          3135123          2534377   \n",
       "\n",
       "   Area (km²)  Density (per km²)  Growth Rate  World Population Percentage  \n",
       "0      652230            63.0587       1.0257                         0.52  \n",
       "1       28748            98.8702       0.9957                         0.04  \n",
       "2     2381741            18.8531       1.0164                         0.56  \n",
       "3         199           222.4774       0.9831                         0.00  \n",
       "4         468           170.5641       1.0100                         0.00  \n",
       "5     1246700            28.5466       1.0315                         0.45  \n",
       "6          91           174.2527       1.0066                         0.00  \n",
       "7         442           212.1335       1.0058                         0.00  \n",
       "8     2780400            16.3683       1.0052                         0.57  \n",
       "9       29743            93.4831       0.9962                         0.03  "
      ]
     },
     "execution_count": 112,
     "metadata": {},
     "output_type": "execute_result"
    }
   ],
   "source": [
    "data.head(10)"
   ]
  },
  {
   "cell_type": "code",
   "execution_count": 113,
   "id": "6aec30c8",
   "metadata": {},
   "outputs": [
    {
     "name": "stdout",
     "output_type": "stream",
     "text": [
      "<class 'pandas.core.frame.DataFrame'>\n",
      "RangeIndex: 234 entries, 0 to 233\n",
      "Data columns (total 17 columns):\n",
      " #   Column                       Non-Null Count  Dtype  \n",
      "---  ------                       --------------  -----  \n",
      " 0   Rank                         234 non-null    int64  \n",
      " 1   CCA3                         234 non-null    object \n",
      " 2   Country                      234 non-null    object \n",
      " 3   Capital                      234 non-null    object \n",
      " 4   Continent                    234 non-null    object \n",
      " 5   2022 Population              234 non-null    int64  \n",
      " 6   2020 Population              234 non-null    int64  \n",
      " 7   2015 Population              234 non-null    int64  \n",
      " 8   2010 Population              234 non-null    int64  \n",
      " 9   2000 Population              234 non-null    int64  \n",
      " 10  1990 Population              234 non-null    int64  \n",
      " 11  1980 Population              234 non-null    int64  \n",
      " 12  1970 Population              234 non-null    int64  \n",
      " 13  Area (km²)                   234 non-null    int64  \n",
      " 14  Density (per km²)            234 non-null    float64\n",
      " 15  Growth Rate                  234 non-null    float64\n",
      " 16  World Population Percentage  234 non-null    float64\n",
      "dtypes: float64(3), int64(10), object(4)\n",
      "memory usage: 31.2+ KB\n"
     ]
    }
   ],
   "source": [
    "data.info()"
   ]
  },
  {
   "cell_type": "code",
   "execution_count": 114,
   "id": "9ff14e47",
   "metadata": {},
   "outputs": [],
   "source": [
    "data.rename(columns={\"2022 Population\":\"Population2022_\",\"2020 Population\":\"Population2020_\",\"2015 Population\":\"Population2015_\",\"2010 Population\":\"Population2010\",\"2000 Population\":\"Population2000_\",\"1990 Population\":\"Population1990_\",\"1980 Population\":\"Population1980_\",\"1970 Population\":\"Population1970_\",\"Area (km²)\":\"Area\",\"Density (per km²)\":\"Density\",\"Growth Rate\":\"Growth_Rate\",\"World Population Percentage\":\"World_Population_Percentage\"}, inplace=True)"
   ]
  },
  {
   "cell_type": "code",
   "execution_count": 115,
   "id": "13ddc562",
   "metadata": {},
   "outputs": [
    {
     "data": {
      "text/plain": [
       "(234, 17)"
      ]
     },
     "execution_count": 115,
     "metadata": {},
     "output_type": "execute_result"
    }
   ],
   "source": [
    "data.shape"
   ]
  },
  {
   "cell_type": "code",
   "execution_count": 116,
   "id": "610b3f7a",
   "metadata": {},
   "outputs": [
    {
     "data": {
      "text/plain": [
       "234"
      ]
     },
     "execution_count": 116,
     "metadata": {},
     "output_type": "execute_result"
    }
   ],
   "source": [
    "data.Rank.nunique()"
   ]
  },
  {
   "cell_type": "code",
   "execution_count": 117,
   "id": "9867bd7c",
   "metadata": {},
   "outputs": [
    {
     "data": {
      "text/plain": [
       "<AxesSubplot:>"
      ]
     },
     "execution_count": 117,
     "metadata": {},
     "output_type": "execute_result"
    },
    {
     "data": {
      "image/png": "[encoded data removed]",
      "text/plain": [
       "<Figure size 432x288 with 1 Axes>"
      ]
     },
     "metadata": {
      "needs_background": "light"
     },
     "output_type": "display_data"
    }
   ],
   "source": [
    "data.Population2022_.hist()"
   ]
  },
  {
   "cell_type": "code",
   "execution_count": 118,
   "id": "4225c6f5",
   "metadata": {},
   "outputs": [
    {
     "data": {
      "text/plain": [
       "<AxesSubplot:>"
      ]
     },
     "execution_count": 118,
     "metadata": {},
     "output_type": "execute_result"
    },
    {
     "data": {
      "image/png": "[encoded data removed]",
      "text/plain": [
       "<Figure size 432x288 with 1 Axes>"
      ]
     },
     "metadata": {
      "needs_background": "light"
     },
     "output_type": "display_data"
    }
   ],
   "source": [
    "data.Population2020_.hist()"
   ]
  },
  {
   "cell_type": "code",
   "execution_count": 119,
   "id": "06bb7d1c",
   "metadata": {},
   "outputs": [
    {
     "data": {
      "text/plain": [
       "<AxesSubplot:>"
      ]
     },
     "execution_count": 119,
     "metadata": {},
     "output_type": "execute_result"
    },
    {
     "data": {
      "image/png": "[encoded data removed]",
      "text/plain": [
       "<Figure size 432x288 with 1 Axes>"
      ]
     },
     "metadata": {
      "needs_background": "light"
     },
     "output_type": "display_data"
    }
   ],
   "source": [
    "data.Population2015_.hist()"
   ]
  },
  {
   "cell_type": "code",
   "execution_count": 120,
   "id": "9f6b2897",
   "metadata": {},
   "outputs": [
    {
     "data": {
      "text/plain": [
       "<AxesSubplot:>"
      ]
     },
     "execution_count": 120,
     "metadata": {},
     "output_type": "execute_result"
    },
    {
     "data": {
      "image/png": "[encoded data removed]",
      "text/plain": [
       "<Figure size 432x288 with 1 Axes>"
      ]
     },
     "metadata": {
      "needs_background": "light"
     },
     "output_type": "display_data"
    }
   ],
   "source": [
    "data.Population2010.hist()"
   ]
  },
  {
   "cell_type": "code",
   "execution_count": 121,
   "id": "395fe004",
   "metadata": {},
   "outputs": [
    {
     "data": {
      "text/plain": [
       "<AxesSubplot:>"
      ]
     },
     "execution_count": 121,
     "metadata": {},
     "output_type": "execute_result"
    },
    {
     "data": {
      "image/png": "[encoded data removed]",
      "text/plain": [
       "<Figure size 432x288 with 1 Axes>"
      ]
     },
     "metadata": {
      "needs_background": "light"
     },
     "output_type": "display_data"
    }
   ],
   "source": [
    "data.Population2000_.hist()"
   ]
  },
  {
   "cell_type": "code",
   "execution_count": 122,
   "id": "92ccf271",
   "metadata": {},
   "outputs": [
    {
     "data": {
      "text/plain": [
       "<AxesSubplot:>"
      ]
     },
     "execution_count": 122,
     "metadata": {},
     "output_type": "execute_result"
    },
    {
     "data": {
      "image/png": "[encoded data removed]",
      "text/plain": [
       "<Figure size 432x288 with 1 Axes>"
      ]
     },
     "metadata": {
      "needs_background": "light"
     },
     "output_type": "display_data"
    }
   ],
   "source": [
    "data.Population1990_.hist()"
   ]
  },
  {
   "cell_type": "code",
   "execution_count": 123,
   "id": "57a31e3a",
   "metadata": {
    "scrolled": true
   },
   "outputs": [
    {
     "data": {
      "text/plain": [
       "<AxesSubplot:>"
      ]
     },
     "execution_count": 123,
     "metadata": {},
     "output_type": "execute_result"
    },
    {
     "data": {
      "image/png": "[encoded data removed]",
      "text/plain": [
       "<Figure size 432x288 with 1 Axes>"
      ]
     },
     "metadata": {
      "needs_background": "light"
     },
     "output_type": "display_data"
    }
   ],
   "source": [
    "data.Population1980_.hist()"
   ]
  },
  {
   "cell_type": "code",
   "execution_count": 124,
   "id": "0a1c0a26",
   "metadata": {},
   "outputs": [
    {
     "data": {
      "text/plain": [
       "<AxesSubplot:>"
      ]
     },
     "execution_count": 124,
     "metadata": {},
     "output_type": "execute_result"
    },
    {
     "data": {
      "image/png": "[encoded data removed]",
      "text/plain": [
       "<Figure size 432x288 with 1 Axes>"
      ]
     },
     "metadata": {
      "needs_background": "light"
     },
     "output_type": "display_data"
    }
   ],
   "source": [
    "data.Population1970_.hist()"
   ]
  },
  {
   "cell_type": "code",
   "execution_count": 125,
   "id": "0fbd5061",
   "metadata": {},
   "outputs": [
    {
     "data": {
      "text/plain": [
       "Rank                           0\n",
       "CCA3                           0\n",
       "Country                        0\n",
       "Capital                        0\n",
       "Continent                      0\n",
       "Population2022_                0\n",
       "Population2020_                0\n",
       "Population2015_                0\n",
       "Population2010                 0\n",
       "Population2000_                0\n",
       "Population1990_                0\n",
       "Population1980_                0\n",
       "Population1970_                0\n",
       "Area                           0\n",
       "Density                        0\n",
       "Growth_Rate                    0\n",
       "World_Population_Percentage    0\n",
       "dtype: int64"
      ]
     },
     "execution_count": 125,
     "metadata": {},
     "output_type": "execute_result"
    }
   ],
   "source": [
    "data.isnull().sum()"
   ]
  },
  {
   "cell_type": "code",
   "execution_count": null,
   "id": "77b4f7e7",
   "metadata": {},
   "outputs": [],
   "source": []
  },
  {
   "cell_type": "code",
   "execution_count": null,
   "id": "09ef2b16",
   "metadata": {},
   "outputs": [],
   "source": []
  },
  {
   "cell_type": "code",
   "execution_count": null,
   "id": "10ffc62e",
   "metadata": {},
   "outputs": [],
   "source": []
  },
  {
   "cell_type": "code",
   "execution_count": null,
   "id": "62d89c7c",
   "metadata": {},
   "outputs": [],
   "source": []
  },
  {
   "cell_type": "code",
   "execution_count": null,
   "id": "09b217bb",
   "metadata": {},
   "outputs": [],
   "source": []
  },
  {
   "cell_type": "code",
   "execution_count": null,
   "id": "8015b2fa",
   "metadata": {},
   "outputs": [],
   "source": []
  },
  {
   "cell_type": "code",
   "execution_count": null,
   "id": "1ce3a492",
   "metadata": {},
   "outputs": [],
   "source": []
  },
  {
   "cell_type": "code",
   "execution_count": null,
   "id": "0d749634",
   "metadata": {},
   "outputs": [],
   "source": []
  },
  {
   "cell_type": "code",
   "execution_count": null,
   "id": "0cfdbf57",
   "metadata": {},
   "outputs": [],
   "source": []
  }
 ],
 "metadata": {
  "kernelspec": {
   "display_name": "Python 3 (ipykernel)",
   "language": "python",
   "name": "python3"
  },
  "language_info": {
   "codemirror_mode": {
    "name": "ipython",
    "version": 3
   },
   "file_extension": ".py",
   "mimetype": "text/x-python",
   "name": "python",
   "nbconvert_exporter": "python",
   "pygments_lexer": "ipython3",
   "version": "3.9.12"
  }
 },
 "nbformat": 4,
 "nbformat_minor": 5
}
